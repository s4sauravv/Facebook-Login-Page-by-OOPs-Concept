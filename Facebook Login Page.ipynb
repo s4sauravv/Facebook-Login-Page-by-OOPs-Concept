{
 "cells": [
  {
   "cell_type": "code",
   "execution_count": null,
   "id": "9bb4d877",
   "metadata": {},
   "outputs": [],
   "source": [
    "#Facebook Login Page"
   ]
  },
  {
   "cell_type": "code",
   "execution_count": 12,
   "id": "a369da94",
   "metadata": {},
   "outputs": [
    {
     "name": "stdout",
     "output_type": "stream",
     "text": [
      "Enter Your Name Saurav \n",
      "Enter Your Last Name Shrivastava\n",
      "Enter Your Mobile Number 9406289124\n",
      "Enter Your Password 1234\n",
      "Enter Your Date Of Birth 16-07-98\n",
      "Enter Your Gender Male\n"
     ]
    }
   ],
   "source": [
    "class Facebook:\n",
    "    def __init__(self,name=input(\"Enter Your Name \"),\n",
    "                 last_name=input(\"Enter Your Last Name \"),\n",
    "                 mobile_number=input(\"Enter Your Mobile Number \"),\n",
    "                 password=input(\"Enter Your Password \"),\n",
    "                 dob=input(\"Enter Your Date Of Birth \"),\n",
    "                 gender=input(\"Enter Your Gender \")):\n",
    "        self.name=name\n",
    "        self.last_name=last_name\n",
    "        self.mobile_number=mobile_number\n",
    "        self.password=password\n",
    "        self.dob=dob\n",
    "        self.gender=gender\n",
    "    def signup(self):\n",
    "        while True: \n",
    "            signup=input(\"Enter Your Mobile Number   \")\n",
    "            password=input(\"Enter Your Password  \")\n",
    "            if signup==self.mobile_number and password==self.password : \n",
    "                print(\"SucessFully Signup \\n\\t Please Login and add details about you.  \")\n",
    "                break\n",
    "            else:\n",
    "                print(\"Please Enter Correct Mobile Number\")\n",
    "                continue              \n",
    "        "
   ]
  },
  {
   "cell_type": "code",
   "execution_count": 13,
   "id": "45d6e0e9",
   "metadata": {},
   "outputs": [],
   "source": [
    "k=Facebook()"
   ]
  },
  {
   "cell_type": "code",
   "execution_count": 14,
   "id": "d9b06f2b",
   "metadata": {},
   "outputs": [
    {
     "name": "stdout",
     "output_type": "stream",
     "text": [
      "Enter Your Mobile Number   9406289124\n",
      "Enter Your Password  1234\n",
      "SucessFully Signup \n",
      "\t Please Login and add details about you.  \n"
     ]
    }
   ],
   "source": [
    "k.signup()"
   ]
  },
  {
   "cell_type": "code",
   "execution_count": 15,
   "id": "570f5283",
   "metadata": {},
   "outputs": [],
   "source": [
    "class Login(Facebook):\n",
    "    def __init__(self,*args):\n",
    "        super(Login,self).__init__(*args)\n",
    "        \n",
    "    def user_details(self):\n",
    "        while True:\n",
    "            mobile=input(\"Enter Your Mobile Number  \\n\")\n",
    "            password=input(\"Enter Your Password  \\n\")\n",
    "            if mobile==self.mobile_number and password==self.password:\n",
    "                print(\"SucessFully Login  \")\n",
    "                break\n",
    "            else:\n",
    "                print(\"Please Enter Correct ID Password  \")\n",
    "                continue\n",
    "    def forgetten_Password(self):\n",
    "        while True:\n",
    "            date_of_birth=input(\"Enter Your Date of Birth  \")\n",
    "            mobile=input(\"Enter Your Mobile Number  \")\n",
    "            if date_of_birth==self.dob and mobile==self.mobile_number:\n",
    "                print(\"SucessFully Login\")\n",
    "                break\n",
    "            else:\n",
    "                print(\"Your Entered Wrong Date of Birth and Password\")\n",
    "                 \n",
    "                 \n",
    "                 "
   ]
  },
  {
   "cell_type": "code",
   "execution_count": 16,
   "id": "aa0b95db",
   "metadata": {},
   "outputs": [],
   "source": [
    "f=Login()"
   ]
  },
  {
   "cell_type": "code",
   "execution_count": 18,
   "id": "b7fe71ff",
   "metadata": {},
   "outputs": [
    {
     "name": "stdout",
     "output_type": "stream",
     "text": [
      "Enter Your Mobile Number  \n",
      "9406289124\n",
      "Enter Your Password  \n",
      "1234\n",
      "SucessFully Login  \n"
     ]
    }
   ],
   "source": [
    "f.user_details()"
   ]
  },
  {
   "cell_type": "code",
   "execution_count": 21,
   "id": "1862d306",
   "metadata": {},
   "outputs": [
    {
     "name": "stdout",
     "output_type": "stream",
     "text": [
      "Enter Your Date of Birth  16-07-98\n",
      "Enter Your Mobile Number  9406289124\n",
      "SucessFully Login\n"
     ]
    }
   ],
   "source": [
    "f.forgetten_Password()"
   ]
  },
  {
   "cell_type": "code",
   "execution_count": null,
   "id": "43a4a51c",
   "metadata": {},
   "outputs": [],
   "source": [
    "#Student of Data Science\n",
    "#Student Of Data Trained- Saurav\n",
    "#Date-1-july-22\n",
    "#Time-20:30"
   ]
  }
 ],
 "metadata": {
  "kernelspec": {
   "display_name": "Python 3 (ipykernel)",
   "language": "python",
   "name": "python3"
  },
  "language_info": {
   "codemirror_mode": {
    "name": "ipython",
    "version": 3
   },
   "file_extension": ".py",
   "mimetype": "text/x-python",
   "name": "python",
   "nbconvert_exporter": "python",
   "pygments_lexer": "ipython3",
   "version": "3.9.12"
  }
 },
 "nbformat": 4,
 "nbformat_minor": 5
}
